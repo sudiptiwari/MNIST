{
  "nbformat": 4,
  "nbformat_minor": 0,
  "metadata": {
    "colab": {
      "provenance": [],
      "authorship_tag": "ABX9TyO+AH4H2Q0WdEoeTxlNs6Ki",
      "include_colab_link": true
    },
    "kernelspec": {
      "name": "python3",
      "display_name": "Python 3"
    },
    "language_info": {
      "name": "python"
    }
  },
  "cells": [
    {
      "cell_type": "markdown",
      "metadata": {
        "id": "view-in-github",
        "colab_type": "text"
      },
      "source": [
        "<a href=\"https://colab.research.google.com/github/sudiptiwari/MNIST/blob/main/numbers_identification_using_MNIST.ipynb\" target=\"_parent\"><img src=\"https://colab.research.google.com/assets/colab-badge.svg\" alt=\"Open In Colab\"/></a>"
      ]
    },
    {
      "cell_type": "code",
      "execution_count": 2,
      "metadata": {
        "id": "S03Ddf_3N4YB"
      },
      "outputs": [],
      "source": [
        "### Main torch library\n",
        "import torch\n",
        "### For Neural Network\n",
        "import torch.nn as nn"
      ]
    },
    {
      "cell_type": "code",
      "source": [
        "### You can find dataset there\n",
        "from torch.utils import data\n",
        "from torchvision import datasets"
      ],
      "metadata": {
        "id": "ENWQcEnvOQ4D"
      },
      "execution_count": 3,
      "outputs": []
    },
    {
      "cell_type": "markdown",
      "source": [
        "## Example Matrix Multiplication"
      ],
      "metadata": {
        "id": "ILXayvQaPsxR"
      }
    },
    {
      "cell_type": "code",
      "source": [
        "# Generate random 4 by 4 matrix\n",
        "A = torch.randn(4,4)\n",
        "# Display the matrix A\n",
        "A"
      ],
      "metadata": {
        "colab": {
          "base_uri": "https://localhost:8080/"
        },
        "id": "DRnSEk_RP18R",
        "outputId": "be399cd2-bd29-4525-dd87-57225a66db58"
      },
      "execution_count": 4,
      "outputs": [
        {
          "output_type": "execute_result",
          "data": {
            "text/plain": [
              "tensor([[-0.2025,  0.0718,  0.2985, -0.3350],\n",
              "        [-1.2682, -0.4195,  1.1305, -1.6768],\n",
              "        [ 0.2385, -2.8286,  0.5713, -0.6676],\n",
              "        [ 0.0821, -0.7849,  0.0072,  0.5938]])"
            ]
          },
          "metadata": {},
          "execution_count": 4
        }
      ]
    },
    {
      "cell_type": "code",
      "source": [
        "# Generate random 4 by 3 matrix\n",
        "B = torch.randn(4, 3)\n",
        "# Display the matrix B\n",
        "B"
      ],
      "metadata": {
        "colab": {
          "base_uri": "https://localhost:8080/"
        },
        "id": "4hSJ4WAwQAci",
        "outputId": "ccdf2bc6-87d3-4266-c922-3805b691f19b"
      },
      "execution_count": 5,
      "outputs": [
        {
          "output_type": "execute_result",
          "data": {
            "text/plain": [
              "tensor([[-0.3328,  0.5285, -0.5273],\n",
              "        [-0.1092, -0.2138,  0.2124],\n",
              "        [ 2.2527, -0.3136, -0.1122],\n",
              "        [-0.0278, -1.2968, -1.2639]])"
            ]
          },
          "metadata": {},
          "execution_count": 5
        }
      ]
    },
    {
      "cell_type": "code",
      "source": [
        "# Matrix multiplication of A and B\n",
        "C = torch.matmul(A, B)\n",
        "# Display the result of matrix multiplication\n",
        "C"
      ],
      "metadata": {
        "colab": {
          "base_uri": "https://localhost:8080/"
        },
        "id": "IXofv1PUQLzR",
        "outputId": "02f0127d-84b7-46d0-c780-339d8c81386d"
      },
      "execution_count": 6,
      "outputs": [
        {
          "output_type": "execute_result",
          "data": {
            "text/plain": [
              "tensor([[ 0.7414,  0.2184,  0.5119],\n",
              "        [ 3.0613,  1.2393,  2.5721],\n",
              "        [ 1.5350,  1.4175,  0.0532],\n",
              "        [ 0.0580, -0.5611, -0.9613]])"
            ]
          },
          "metadata": {},
          "execution_count": 6
        }
      ]
    },
    {
      "cell_type": "code",
      "source": [
        "# Dsiplay the size of matrix C\n",
        "C.shape"
      ],
      "metadata": {
        "colab": {
          "base_uri": "https://localhost:8080/"
        },
        "id": "ZugSFtW7QWVh",
        "outputId": "11278eeb-50d9-457c-da24-80032107a5ea"
      },
      "execution_count": 7,
      "outputs": [
        {
          "output_type": "execute_result",
          "data": {
            "text/plain": [
              "torch.Size([4, 3])"
            ]
          },
          "metadata": {},
          "execution_count": 7
        }
      ]
    },
    {
      "cell_type": "markdown",
      "source": [
        "## Load Data Set"
      ],
      "metadata": {
        "id": "cspqP4NrQqwa"
      }
    },
    {
      "cell_type": "code",
      "source": [
        "from torchvision import transforms\n",
        "to_tensor = transforms.ToTensor()"
      ],
      "metadata": {
        "id": "-alh6dSZQf35"
      },
      "execution_count": 8,
      "outputs": []
    },
    {
      "cell_type": "code",
      "source": [
        "# Download Train data and convert them to tensor data structure\n",
        "train_data = datasets.MNIST(root=\"./datasets\", train=True, download=True, transform=to_tensor)"
      ],
      "metadata": {
        "colab": {
          "base_uri": "https://localhost:8080/"
        },
        "id": "eG9Y-zB2Q5eF",
        "outputId": "1541296b-c6ee-45e0-80bf-fd787d84df2c"
      },
      "execution_count": 9,
      "outputs": [
        {
          "output_type": "stream",
          "name": "stdout",
          "text": [
            "Downloading http://yann.lecun.com/exdb/mnist/train-images-idx3-ubyte.gz\n",
            "Downloading http://yann.lecun.com/exdb/mnist/train-images-idx3-ubyte.gz to ./datasets/MNIST/raw/train-images-idx3-ubyte.gz\n"
          ]
        },
        {
          "output_type": "stream",
          "name": "stderr",
          "text": [
            "100%|██████████| 9912422/9912422 [00:00<00:00, 143061625.54it/s]\n"
          ]
        },
        {
          "output_type": "stream",
          "name": "stdout",
          "text": [
            "Extracting ./datasets/MNIST/raw/train-images-idx3-ubyte.gz to ./datasets/MNIST/raw\n",
            "\n",
            "Downloading http://yann.lecun.com/exdb/mnist/train-labels-idx1-ubyte.gz\n",
            "Downloading http://yann.lecun.com/exdb/mnist/train-labels-idx1-ubyte.gz to ./datasets/MNIST/raw/train-labels-idx1-ubyte.gz\n"
          ]
        },
        {
          "output_type": "stream",
          "name": "stderr",
          "text": [
            "100%|██████████| 28881/28881 [00:00<00:00, 78864384.00it/s]\n"
          ]
        },
        {
          "output_type": "stream",
          "name": "stdout",
          "text": [
            "Extracting ./datasets/MNIST/raw/train-labels-idx1-ubyte.gz to ./datasets/MNIST/raw\n",
            "\n",
            "Downloading http://yann.lecun.com/exdb/mnist/t10k-images-idx3-ubyte.gz\n",
            "Downloading http://yann.lecun.com/exdb/mnist/t10k-images-idx3-ubyte.gz to ./datasets/MNIST/raw/t10k-images-idx3-ubyte.gz\n"
          ]
        },
        {
          "output_type": "stream",
          "name": "stderr",
          "text": [
            "100%|██████████| 1648877/1648877 [00:00<00:00, 35877877.36it/s]\n"
          ]
        },
        {
          "output_type": "stream",
          "name": "stdout",
          "text": [
            "Extracting ./datasets/MNIST/raw/t10k-images-idx3-ubyte.gz to ./datasets/MNIST/raw\n",
            "\n",
            "Downloading http://yann.lecun.com/exdb/mnist/t10k-labels-idx1-ubyte.gz\n",
            "Downloading http://yann.lecun.com/exdb/mnist/t10k-labels-idx1-ubyte.gz to ./datasets/MNIST/raw/t10k-labels-idx1-ubyte.gz\n"
          ]
        },
        {
          "output_type": "stream",
          "name": "stderr",
          "text": [
            "100%|██████████| 4542/4542 [00:00<00:00, 14059430.83it/s]\n"
          ]
        },
        {
          "output_type": "stream",
          "name": "stdout",
          "text": [
            "Extracting ./datasets/MNIST/raw/t10k-labels-idx1-ubyte.gz to ./datasets/MNIST/raw\n",
            "\n"
          ]
        }
      ]
    },
    {
      "cell_type": "code",
      "source": [
        "# Download Test data and convert them to tensor data structure\n",
        "test_data = datasets.MNIST(root=\"./datasets\", train=False, download=True, transform=to_tensor)"
      ],
      "metadata": {
        "id": "9dH39imVRQLd"
      },
      "execution_count": 11,
      "outputs": []
    },
    {
      "cell_type": "code",
      "source": [
        "# Viewing size of train data shape just for curiosity\n",
        "train_data.data.shape\n",
        "\n",
        "# Outputs torch.Size([60000, 28, 28]) meaning it has 60000 data(images) of 28 by 28 matrices(pixels)"
      ],
      "metadata": {
        "colab": {
          "base_uri": "https://localhost:8080/"
        },
        "id": "4svzn71yRfFK",
        "outputId": "2f2ac24e-d265-45aa-c6f4-34b9697e7ef1"
      },
      "execution_count": 14,
      "outputs": [
        {
          "output_type": "execute_result",
          "data": {
            "text/plain": [
              "torch.Size([60000, 28, 28])"
            ]
          },
          "metadata": {},
          "execution_count": 14
        }
      ]
    },
    {
      "cell_type": "code",
      "source": [
        "# Viewing size of test data shape just for curiosity\n",
        "test_data.data.shape\n",
        "\n",
        "# Outputs torch.Size([10000, 28, 28]) meaning it has 10000 data(images) of 28 by 28 matrices(pixels)"
      ],
      "metadata": {
        "colab": {
          "base_uri": "https://localhost:8080/"
        },
        "id": "w0M5j0BbR4_T",
        "outputId": "07528efe-b406-4455-d35c-84bfd919281b"
      },
      "execution_count": 16,
      "outputs": [
        {
          "output_type": "execute_result",
          "data": {
            "text/plain": [
              "torch.Size([10000, 28, 28])"
            ]
          },
          "metadata": {},
          "execution_count": 16
        }
      ]
    },
    {
      "cell_type": "code",
      "source": [
        "# If we want to see the downloaded data\n",
        "import matplotlib.pyplot as plt"
      ],
      "metadata": {
        "id": "7jUtGSLZSSG6"
      },
      "execution_count": 17,
      "outputs": []
    },
    {
      "cell_type": "code",
      "source": [
        "plt.imshow(train_data.data[0]), train_data.targets[0]"
      ],
      "metadata": {
        "colab": {
          "base_uri": "https://localhost:8080/",
          "height": 448
        },
        "id": "P9WPsus3SX-e",
        "outputId": "4b7b64e6-0ed1-4dc4-b561-2234d6ba13f3"
      },
      "execution_count": 18,
      "outputs": [
        {
          "output_type": "execute_result",
          "data": {
            "text/plain": [
              "(<matplotlib.image.AxesImage at 0x7f36e5b0d0f0>, tensor(5))"
            ]
          },
          "metadata": {},
          "execution_count": 18
        },
        {
          "output_type": "display_data",
          "data": {
            "text/plain": [
              "<Figure size 640x480 with 1 Axes>"
            ],
            "image/png": "[encoded data removed]"
          },
          "metadata": {}
        }
      ]
    },
    {
      "cell_type": "code",
      "source": [
        "plt.imshow(train_data.data[1]), train_data.targets[1]\n"
      ],
      "metadata": {
        "colab": {
          "base_uri": "https://localhost:8080/",
          "height": 448
        },
        "id": "2wOmYxfUSpRh",
        "outputId": "ea7614c7-be95-4e22-8f8e-d6fc64e6db42"
      },
      "execution_count": 19,
      "outputs": [
        {
          "output_type": "execute_result",
          "data": {
            "text/plain": [
              "(<matplotlib.image.AxesImage at 0x7f36d7433e20>, tensor(0))"
            ]
          },
          "metadata": {},
          "execution_count": 19
        },
        {
          "output_type": "display_data",
          "data": {
            "text/plain": [
              "<Figure size 640x480 with 1 Axes>"
            ],
            "image/png": "[encoded data removed]"
          },
          "metadata": {}
        }
      ]
    },
    {
      "cell_type": "code",
      "source": [
        "train_data_loader = data.DataLoader(train_data, shuffle=True, batch_size=32)\n",
        "test_data_loader = data.DataLoader(test_data, shuffle=True, batch_size=32)"
      ],
      "metadata": {
        "id": "gDUK8hrNS0Ku"
      },
      "execution_count": 21,
      "outputs": []
    },
    {
      "cell_type": "code",
      "source": [
        "for inputs, label in train_data_loader:\n",
        "    print(inputs.shape)\n",
        "    print(inputs.reshape(32, 784).shape)\n",
        "    break"
      ],
      "metadata": {
        "colab": {
          "base_uri": "https://localhost:8080/"
        },
        "id": "wjbh8wjNXWo5",
        "outputId": "1656570d-600c-4d6b-c2c8-fbb0482f15b0"
      },
      "execution_count": 22,
      "outputs": [
        {
          "output_type": "stream",
          "name": "stdout",
          "text": [
            "torch.Size([32, 1, 28, 28])\n",
            "torch.Size([32, 784])\n"
          ]
        }
      ]
    },
    {
      "cell_type": "markdown",
      "source": [
        "## Model - Neutal Network"
      ],
      "metadata": {
        "id": "k-fg8MtCXas9"
      }
    },
    {
      "cell_type": "code",
      "source": [
        "model = nn.Sequential(\n",
        "    nn.Linear(28*28, 500),\n",
        "    nn.ReLU(),\n",
        "    nn.Linear(500, 100),\n",
        "    nn.ReLU(),\n",
        "    nn.Linear(100, 10)\n",
        ")"
      ],
      "metadata": {
        "id": "enlImhwOXeEG"
      },
      "execution_count": 23,
      "outputs": []
    },
    {
      "cell_type": "code",
      "source": [
        "model"
      ],
      "metadata": {
        "colab": {
          "base_uri": "https://localhost:8080/"
        },
        "id": "vO3rOgn8XjYW",
        "outputId": "56ee9a2c-9c5f-4f11-a33c-663277a95d70"
      },
      "execution_count": 24,
      "outputs": [
        {
          "output_type": "execute_result",
          "data": {
            "text/plain": [
              "Sequential(\n",
              "  (0): Linear(in_features=784, out_features=500, bias=True)\n",
              "  (1): ReLU()\n",
              "  (2): Linear(in_features=500, out_features=100, bias=True)\n",
              "  (3): ReLU()\n",
              "  (4): Linear(in_features=100, out_features=10, bias=True)\n",
              ")"
            ]
          },
          "metadata": {},
          "execution_count": 24
        }
      ]
    },
    {
      "cell_type": "code",
      "source": [
        "for inputs, label in test_data_loader:\n",
        "    bs = inputs.shape[0]\n",
        "    \n",
        "    inputs = inputs.reshape(bs, 28*28)\n",
        "    outputs = model(inputs)\n",
        "    out = torch.argmax(outputs, dim=1)\n",
        "    print(\"Outputs\")\n",
        "    print(out)\n",
        "    print(\"Targets\")\n",
        "    print(label)\n",
        "    break"
      ],
      "metadata": {
        "colab": {
          "base_uri": "https://localhost:8080/"
        },
        "id": "aUu36xnHXqRR",
        "outputId": "cd116ca1-bc4e-4d7f-9cfb-dd844e38017c"
      },
      "execution_count": 25,
      "outputs": [
        {
          "output_type": "stream",
          "name": "stdout",
          "text": [
            "Outputs\n",
            "tensor([8, 5, 8, 8, 5, 8, 5, 5, 5, 5, 5, 8, 5, 5, 8, 5, 8, 5, 5, 5, 8, 5, 5, 5,\n",
            "        5, 5, 5, 5, 5, 5, 5, 5])\n",
            "Targets\n",
            "tensor([7, 5, 2, 7, 3, 5, 1, 6, 1, 1, 5, 9, 7, 8, 7, 2, 9, 9, 7, 7, 7, 5, 6, 3,\n",
            "        6, 8, 9, 8, 6, 7, 7, 5])\n"
          ]
        }
      ]
    },
    {
      "cell_type": "markdown",
      "source": [
        "## Optimizer"
      ],
      "metadata": {
        "id": "LHPZ0BA9Xtpu"
      }
    },
    {
      "cell_type": "code",
      "source": [
        "optimizer = torch.optim.Adam(model.parameters(), lr=0.001)\n",
        "error_function = nn.CrossEntropyLoss()"
      ],
      "metadata": {
        "id": "Kzd7efjqXvOH"
      },
      "execution_count": 26,
      "outputs": []
    },
    {
      "cell_type": "markdown",
      "source": [
        "## Training Loop"
      ],
      "metadata": {
        "id": "LxJKYA1YX00D"
      }
    },
    {
      "cell_type": "code",
      "source": [
        "# train_loss = []\n",
        "# test_loss = []\n",
        "# train_accuracy = []\n",
        "test_accuracy = []\n",
        "EPOCHS = 50"
      ],
      "metadata": {
        "id": "T3ZyM8QVXzM4"
      },
      "execution_count": 27,
      "outputs": []
    },
    {
      "cell_type": "code",
      "source": [
        "### Find accuracy of Test Dataset\n",
        "count = 0\n",
        "accuracy = 0\n",
        "for inputs, label in test_data_loader:\n",
        "    ### change shape of input\n",
        "    bs = inputs.shape[0]\n",
        "    inputs = inputs.reshape(bs, 28*28)\n",
        "\n",
        "    ### predict the output\n",
        "    outputs = model(inputs)\n",
        "    out = torch.argmax(outputs, dim=1)\n",
        "\n",
        "    accuracy += (out == label).type(torch.float).sum()\n",
        "    count += bs\n",
        "test_accuracy.append(accuracy/count)"
      ],
      "metadata": {
        "id": "4hAUaC04X8DQ"
      },
      "execution_count": 28,
      "outputs": []
    },
    {
      "cell_type": "code",
      "source": [
        "test_accuracy"
      ],
      "metadata": {
        "colab": {
          "base_uri": "https://localhost:8080/"
        },
        "id": "W-mvt-aZX_ac",
        "outputId": "4c531765-3ec1-4d37-be55-ef8a3ad6e889"
      },
      "execution_count": 29,
      "outputs": [
        {
          "output_type": "execute_result",
          "data": {
            "text/plain": [
              "[tensor(0.0872)]"
            ]
          },
          "metadata": {},
          "execution_count": 29
        }
      ]
    },
    {
      "cell_type": "code",
      "source": [
        "for epoch in range(EPOCHS):\n",
        "    print(\"Training EPOCH\", epoch)\n",
        "    for inputs, label in train_data_loader:\n",
        "        ### change shape of input\n",
        "        bs = inputs.shape[0]\n",
        "        inputs = inputs.reshape(bs, 28*28)\n",
        "\n",
        "        ### predict the output\n",
        "        outputs = model(inputs)\n",
        "\n",
        "        ### find the error\n",
        "        error = error_function(outputs, label)\n",
        "\n",
        "        ### backpropagate\n",
        "        optimizer.zero_grad()\n",
        "        error.backward()\n",
        "        optimizer.step()\n",
        "    \n",
        "    ### Find accuracy of Test Dataset\n",
        "    count = 0\n",
        "    accuracy = 0\n",
        "    for inputs, label in test_data_loader:\n",
        "        ### change shape of input\n",
        "        bs = inputs.shape[0]\n",
        "        inputs = inputs.reshape(bs, 28*28)\n",
        "\n",
        "        ### predict the output\n",
        "        outputs = model(inputs)\n",
        "        out = torch.argmax(outputs, dim=1)\n",
        "        \n",
        "        accuracy += (out == label).type(torch.float).sum()\n",
        "        count += bs\n",
        "    test_accuracy.append(accuracy/count)\n",
        "    plt.plot(test_accuracy)\n",
        "    \n",
        "    \n",
        "#     print(\"Outputs\")\n",
        "#     print(out)\n",
        "#     print(\"Targets\")\n",
        "#     print(label)\n",
        "#     break"
      ],
      "metadata": {
        "colab": {
          "base_uri": "https://localhost:8080/",
          "height": 1000
        },
        "id": "c6v25vRAYAkz",
        "outputId": "ab2eab8e-39ae-49d1-841b-6c33986814f3"
      },
      "execution_count": 31,
      "outputs": [
        {
          "output_type": "stream",
          "name": "stdout",
          "text": [
            "Training EPOCH 0\n",
            "Training EPOCH 1\n",
            "Training EPOCH 2\n",
            "Training EPOCH 3\n",
            "Training EPOCH 4\n",
            "Training EPOCH 5\n",
            "Training EPOCH 6\n",
            "Training EPOCH 7\n",
            "Training EPOCH 8\n",
            "Training EPOCH 9\n",
            "Training EPOCH 10\n",
            "Training EPOCH 11\n",
            "Training EPOCH 12\n",
            "Training EPOCH 13\n",
            "Training EPOCH 14\n",
            "Training EPOCH 15\n",
            "Training EPOCH 16\n",
            "Training EPOCH 17\n",
            "Training EPOCH 18\n",
            "Training EPOCH 19\n",
            "Training EPOCH 20\n",
            "Training EPOCH 21\n",
            "Training EPOCH 22\n",
            "Training EPOCH 23\n",
            "Training EPOCH 24\n",
            "Training EPOCH 25\n",
            "Training EPOCH 26\n",
            "Training EPOCH 27\n",
            "Training EPOCH 28\n",
            "Training EPOCH 29\n",
            "Training EPOCH 30\n",
            "Training EPOCH 31\n",
            "Training EPOCH 32\n",
            "Training EPOCH 33\n",
            "Training EPOCH 34\n",
            "Training EPOCH 35\n",
            "Training EPOCH 36\n",
            "Training EPOCH 37\n",
            "Training EPOCH 38\n",
            "Training EPOCH 39\n",
            "Training EPOCH 40\n",
            "Training EPOCH 41\n",
            "Training EPOCH 42\n",
            "Training EPOCH 43\n",
            "Training EPOCH 44\n",
            "Training EPOCH 45\n",
            "Training EPOCH 46\n",
            "Training EPOCH 47\n",
            "Training EPOCH 48\n",
            "Training EPOCH 49\n"
          ]
        },
        {
          "output_type": "display_data",
          "data": {
            "text/plain": [
              "<Figure size 640x480 with 1 Axes>"
            ],
            "image/png": "[encoded data removed]"
          },
          "metadata": {}
        }
      ]
    },
    {
      "cell_type": "code",
      "source": [
        "plt.plot(test_accuracy)"
      ],
      "metadata": {
        "colab": {
          "base_uri": "https://localhost:8080/",
          "height": 448
        },
        "id": "bZRu_salu4Oo",
        "outputId": "acc8a5d5-cc4f-4a8b-9cf0-bfa4d0f7b6b8"
      },
      "execution_count": 32,
      "outputs": [
        {
          "output_type": "execute_result",
          "data": {
            "text/plain": [
              "[<matplotlib.lines.Line2D at 0x7f36d72c1660>]"
            ]
          },
          "metadata": {},
          "execution_count": 32
        },
        {
          "output_type": "display_data",
          "data": {
            "text/plain": [
              "<Figure size 640x480 with 1 Axes>"
            ],
            "image/png": "[encoded data removed]"
          },
          "metadata": {}
        }
      ]
    },
    {
      "cell_type": "code",
      "source": [
        "test_accuracy"
      ],
      "metadata": {
        "colab": {
          "base_uri": "https://localhost:8080/"
        },
        "id": "RQ-yJpr14VIY",
        "outputId": "0215e4ca-6ae9-4669-ded2-9016da928c04"
      },
      "execution_count": 33,
      "outputs": [
        {
          "output_type": "execute_result",
          "data": {
            "text/plain": [
              "[tensor(0.0872),\n",
              " tensor(0.9646),\n",
              " tensor(0.9689),\n",
              " tensor(0.9787),\n",
              " tensor(0.9765),\n",
              " tensor(0.9773),\n",
              " tensor(0.9800),\n",
              " tensor(0.9802),\n",
              " tensor(0.9779),\n",
              " tensor(0.9800),\n",
              " tensor(0.9774),\n",
              " tensor(0.9788),\n",
              " tensor(0.9774),\n",
              " tensor(0.9788),\n",
              " tensor(0.9812),\n",
              " tensor(0.9766),\n",
              " tensor(0.9806),\n",
              " tensor(0.9793),\n",
              " tensor(0.9835),\n",
              " tensor(0.9821),\n",
              " tensor(0.9825),\n",
              " tensor(0.9820),\n",
              " tensor(0.9814),\n",
              " tensor(0.9784),\n",
              " tensor(0.9816),\n",
              " tensor(0.9813),\n",
              " tensor(0.9837),\n",
              " tensor(0.9817),\n",
              " tensor(0.9816),\n",
              " tensor(0.9807),\n",
              " tensor(0.9825),\n",
              " tensor(0.9805),\n",
              " tensor(0.9805),\n",
              " tensor(0.9809),\n",
              " tensor(0.9775),\n",
              " tensor(0.9838),\n",
              " tensor(0.9803),\n",
              " tensor(0.9822),\n",
              " tensor(0.9814),\n",
              " tensor(0.9762),\n",
              " tensor(0.9828),\n",
              " tensor(0.9820),\n",
              " tensor(0.9787),\n",
              " tensor(0.9818),\n",
              " tensor(0.9808),\n",
              " tensor(0.9832),\n",
              " tensor(0.9824),\n",
              " tensor(0.9826),\n",
              " tensor(0.9813),\n",
              " tensor(0.9824),\n",
              " tensor(0.9809),\n",
              " tensor(0.9832),\n",
              " tensor(0.9816),\n",
              " tensor(0.9815),\n",
              " tensor(0.9819),\n",
              " tensor(0.9802),\n",
              " tensor(0.9820),\n",
              " tensor(0.9825),\n",
              " tensor(0.9817),\n",
              " tensor(0.9822),\n",
              " tensor(0.9829),\n",
              " tensor(0.9830),\n",
              " tensor(0.9837),\n",
              " tensor(0.9831),\n",
              " tensor(0.9830),\n",
              " tensor(0.9796),\n",
              " tensor(0.9817),\n",
              " tensor(0.9789),\n",
              " tensor(0.9826),\n",
              " tensor(0.9810),\n",
              " tensor(0.9813),\n",
              " tensor(0.9816),\n",
              " tensor(0.9816),\n",
              " tensor(0.9822),\n",
              " tensor(0.9828),\n",
              " tensor(0.9818),\n",
              " tensor(0.9826),\n",
              " tensor(0.9788),\n",
              " tensor(0.9810),\n",
              " tensor(0.9816),\n",
              " tensor(0.9778),\n",
              " tensor(0.9819),\n",
              " tensor(0.9837),\n",
              " tensor(0.9819),\n",
              " tensor(0.9818),\n",
              " tensor(0.9828),\n",
              " tensor(0.9827),\n",
              " tensor(0.9830),\n",
              " tensor(0.9812),\n",
              " tensor(0.9816),\n",
              " tensor(0.9833),\n",
              " tensor(0.9841),\n",
              " tensor(0.9827),\n",
              " tensor(0.9812),\n",
              " tensor(0.9813),\n",
              " tensor(0.9799),\n",
              " tensor(0.9832),\n",
              " tensor(0.9815),\n",
              " tensor(0.9830),\n",
              " tensor(0.9806),\n",
              " tensor(0.9830)]"
            ]
          },
          "metadata": {},
          "execution_count": 33
        }
      ]
    }
  ]
}